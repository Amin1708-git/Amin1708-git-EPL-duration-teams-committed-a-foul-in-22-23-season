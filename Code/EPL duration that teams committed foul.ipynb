{
 "cells": [
  {
   "cell_type": "code",
   "execution_count": 1,
   "id": "4658edf4",
   "metadata": {},
   "outputs": [],
   "source": [
    "import pandas as pd\n",
    "import numpy as np"
   ]
  },
  {
   "cell_type": "code",
   "execution_count": 2,
   "id": "770b6d55",
   "metadata": {},
   "outputs": [],
   "source": [
    "url='https://fbref.com/en/comps/9/2022-2023/2022-2023-Premier-League-Stats'\n",
    "#store the url of the page that we will fetch the tables from in a variable called \"url\"\n",
    "tables=pd.read_html(url)\n",
    "#this is how to fetch all the tables from a given url using pandas"
   ]
  },
  {
   "cell_type": "code",
   "execution_count": 3,
   "id": "b2060b7e",
   "metadata": {},
   "outputs": [],
   "source": [
    "tables[-2].to_excel(\"Squad_Miscellaneous_Stats.xlsx\")\n",
    "#identify the number of the table\n",
    "#store that specific table that i want into excel file"
   ]
  },
  {
   "cell_type": "code",
   "execution_count": 4,
   "id": "22c97db7",
   "metadata": {},
   "outputs": [],
   "source": [
    "tables[-6].to_excel(\"squad_possession.xlsx\")\n",
    "#identify the number of the table\n",
    "#store that specific table that i want into excel file"
   ]
  },
  {
   "cell_type": "markdown",
   "id": "3330ea17",
   "metadata": {},
   "source": [
    "# clean the data using excel spreadsheat "
   ]
  },
  {
   "cell_type": "code",
   "execution_count": 5,
   "id": "dafa7d8b",
   "metadata": {},
   "outputs": [],
   "source": [
    "#read the two cleaned tables from excel into pandas data frame\n",
    "possession=pd.read_excel(\"possession.xlsx\")\n",
    "fouls=pd.read_excel(\"fouls.xlsx\")"
   ]
  },
  {
   "cell_type": "code",
   "execution_count": 6,
   "id": "0b001159",
   "metadata": {},
   "outputs": [],
   "source": [
    "#merge the two tables to make one table\n",
    "fls_poss=possession.merge(fouls, on='Squad', how=\"inner\")"
   ]
  },
  {
   "cell_type": "code",
   "execution_count": 7,
   "id": "1fc1b21c",
   "metadata": {},
   "outputs": [],
   "source": [
    "fls_poss['#Games']=38\n",
    "#add a new column which represents the number of games played by each team"
   ]
  },
  {
   "cell_type": "code",
   "execution_count": 8,
   "id": "ca1e031b",
   "metadata": {},
   "outputs": [],
   "source": [
    "fls_poss['ActGameMin']=54.52\n",
    "#add the new column which represents the actual game minutes in the EPL last season(22-23)\n",
    "#ActGameMin= actual minutes in EPL game"
   ]
  },
  {
   "cell_type": "code",
   "execution_count": 9,
   "id": "9c8127c6",
   "metadata": {},
   "outputs": [],
   "source": [
    "fls_poss['MinPoss']=(fls_poss['Poss']/100)*fls_poss['ActGameMin']\n",
    "#add a new column which calculates the actual minutes that team possessed the ball in an average game\n",
    "#MinPoss= minutes possessed\n",
    "#MinPoss= (possession(%)/100)*ActGameMin"
   ]
  },
  {
   "cell_type": "code",
   "execution_count": 10,
   "id": "4e5a6129",
   "metadata": {},
   "outputs": [],
   "source": [
    "fls_poss['MinPoss'] = np.ceil(fls_poss['MinPoss'])\n",
    "#ceil the column to drop the extra bits"
   ]
  },
  {
   "cell_type": "code",
   "execution_count": 11,
   "id": "3b7fbcda",
   "metadata": {},
   "outputs": [],
   "source": [
    "fls_poss['OppMinPoss']=fls_poss['ActGameMin']-fls_poss['MinPoss']\n",
    "#calculating the minutes that opponents possessed the ball\n",
    "#OppMinPoss=ActGameMin-MinPoss"
   ]
  },
  {
   "cell_type": "code",
   "execution_count": 12,
   "id": "831b10ad",
   "metadata": {},
   "outputs": [],
   "source": [
    "fls_poss['OppMinPoss'] = np.floor(fls_poss['OppMinPoss'])\n",
    "#flour the column to drop the extra bits"
   ]
  },
  {
   "cell_type": "code",
   "execution_count": 13,
   "id": "75ef8ee7",
   "metadata": {},
   "outputs": [],
   "source": [
    "fls_poss['Fls/Game']=fls_poss['Fls']/fls_poss['#Games']\n",
    "#calculating number of fouls per game by diviging the total fouls into number of total games"
   ]
  },
  {
   "cell_type": "code",
   "execution_count": 14,
   "id": "458088bf",
   "metadata": {},
   "outputs": [],
   "source": [
    "fls_poss['Sec/Fl']=(fls_poss['OppMinPoss']*60)/fls_poss['Fls/Game']\n",
    "#calculating the how many seconds took each team to commit a foul"
   ]
  },
  {
   "cell_type": "code",
   "execution_count": 15,
   "id": "333e6576",
   "metadata": {},
   "outputs": [],
   "source": [
    "fls_poss_sorted=fls_poss.sort_values(by='Sec/Fl',ascending=True)\n",
    "#sorting the data according to Sec/Fl"
   ]
  },
  {
   "cell_type": "code",
   "execution_count": 16,
   "id": "daa4b101",
   "metadata": {},
   "outputs": [],
   "source": [
    "fls_poss_sorted_indexed=fls_poss_sorted.reset_index(drop=True)\n",
    "#reset the index"
   ]
  },
  {
   "cell_type": "code",
   "execution_count": 17,
   "id": "767a7943",
   "metadata": {},
   "outputs": [],
   "source": [
    "fls_poss_sorted_indexed.to_excel(\"how many seconds each team committed a foul.xlsx\")\n",
    "#save the final table into excel file"
   ]
  }
 ],
 "metadata": {
  "kernelspec": {
   "display_name": "Python 3 (ipykernel)",
   "language": "python",
   "name": "python3"
  },
  "language_info": {
   "codemirror_mode": {
    "name": "ipython",
    "version": 3
   },
   "file_extension": ".py",
   "mimetype": "text/x-python",
   "name": "python",
   "nbconvert_exporter": "python",
   "pygments_lexer": "ipython3",
   "version": "3.11.4"
  }
 },
 "nbformat": 4,
 "nbformat_minor": 5
}
